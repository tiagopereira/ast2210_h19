{
 "cells": [
  {
   "cell_type": "code",
   "execution_count": 1,
   "metadata": {},
   "outputs": [],
   "source": [
    "%matplotlib qt\n",
    "from matplotlib import pyplot as plt\n",
    "\n",
    "import numpy as np\n",
    "\n",
    "import sunpy.map\n",
    "from sunpy.instr.aia import aiaprep\n",
    "from sunpy.net import Fido, attrs as a\n",
    "\n",
    "from astropy.coordinates import SkyCoord\n",
    "from astropy import units as u\n",
    "\n",
    "from irispy.sji import read_iris_sji_level2_fits"
   ]
  },
  {
   "cell_type": "code",
   "execution_count": 2,
   "metadata": {},
   "outputs": [
    {
     "name": "stderr",
     "output_type": "stream",
     "text": [
      "WARNING: FITSFixedWarning: 'unitfix' made the change 'Changed units: 'seconds' -> 's''. [astropy.wcs.wcs]\n",
      "/Users/tiago/codes/irispy/irispy/sji.py:498: RuntimeWarning: invalid value encountered in sqrt\n",
      "  + readout_noise.to(u.photon).value**2),\n"
     ]
    },
    {
     "name": "stdout",
     "output_type": "stream",
     "text": [
      "INFO: uncertainty should have attribute uncertainty_type. [astropy.nddata.nddata]\n"
     ]
    },
    {
     "name": "stderr",
     "output_type": "stream",
     "text": [
      "/Users/tiago/codes/irispy/irispy/sji.py:91: UserWarning: This class is still in early stages of development. API not stable.\n",
      "  warnings.warn(\"This class is still in early stages of development. API not stable.\")\n"
     ]
    }
   ],
   "source": [
    "sji = read_iris_sji_level2_fits(\"iris_l2_20150319_090911_3860359580_SJI_1330_t000.fits\")"
   ]
  },
  {
   "cell_type": "code",
   "execution_count": 3,
   "metadata": {},
   "outputs": [
    {
     "data": {
      "text/plain": [
       "\n",
       "    IRISMapCube\n",
       "    ---------\n",
       "    Observatory:\t\t IRIS\n",
       "    Instrument:\t\t\t SJI\n",
       "    Bandpass:\t\t\t 1330.0\n",
       "    Obs. Start:\t\t\t 2015-03-19T09:09:11.750000\n",
       "    Obs. End:\t\t\t 2015-03-19T14:07:17.532000\n",
       "    Instance Start:\t\t 2015-03-19T09:09:11.850000\n",
       "    Instance End:\t\t 2015-03-19T14:07:09.254000\n",
       "    Total Frames in Obs.:\t 1920\n",
       "    IRIS Obs. id:\t\t 3860359580\n",
       "    IRIS Obs. Description:\t Large coarse 8-step raster 14x120 8s  C II Deep x 8 Spatial x 2, Spe\n",
       "    Cube dimensions:\t\t [1920.  388.  402.] pix\n",
       "    Axis Types:\t\t\t (None, 'custom:pos.helioprojective.lat', 'custom:pos.helioprojective.lon')\n",
       "    "
      ]
     },
     "execution_count": 3,
     "metadata": {},
     "output_type": "execute_result"
    }
   ],
   "source": [
    "sji"
   ]
  },
  {
   "cell_type": "code",
   "execution_count": 4,
   "metadata": {},
   "outputs": [],
   "source": [
    "from sunpy.time import parse_time\n",
    "erupt_time = parse_time('2015-03-19T12:27:09')\n",
    "iris_times = sji.extra_coords['TIME']['value']\n",
    "# Now get the difference between AIA and IRIS times\n",
    "time_diff = iris_times - erupt_time\n",
    "time_index = np.argmin(np.abs(time_diff))"
   ]
  },
  {
   "cell_type": "code",
   "execution_count": 5,
   "metadata": {},
   "outputs": [
    {
     "name": "stderr",
     "output_type": "stream",
     "text": [
      "/Users/tiago/codes/irispy/irispy/sji.py:91: UserWarning: This class is still in early stages of development. API not stable.\n",
      "  warnings.warn(\"This class is still in early stages of development. API not stable.\")\n"
     ]
    }
   ],
   "source": [
    "plt.figure()\n",
    "ax = plt.subplot(projection=sji.wcs.dropaxis(-1))\n",
    "tmp = np.sign(sji[time_index].data) * np.abs(sji[time_index].data) ** 0.3\n",
    "img = ax.imshow(tmp, cmap='irissji1330', vmin=0.5, vmax=1000**0.3)\n",
    "ax.coords[0].set_major_formatter('s.s')\n",
    "ax.coords[1].set_major_formatter('s.s')\n",
    "ax.grid(color='w', ls=':')\n",
    "\n"
   ]
  },
  {
   "cell_type": "code",
   "execution_count": 6,
   "metadata": {},
   "outputs": [],
   "source": [
    "import sunpy.map\n",
    "from sunpy.instr.aia import aiaprep\n",
    "from sunpy.net import Fido, attrs as a"
   ]
  },
  {
   "cell_type": "code",
   "execution_count": 7,
   "metadata": {},
   "outputs": [
    {
     "data": {
      "text/html": [
       "Results from 1 Provider:</br></br>7 Results from the VSOClient:</br><i>QTable length=7</i>\n",
       "<table id=\"table7886411424\" class=\"table-striped table-bordered table-condensed\">\n",
       "<thead><tr><th>Start Time [1]</th><th>End Time [1]</th><th>Source</th><th>Instrument</th><th>Type</th><th>Wavelength [2]</th></tr></thead>\n",
       "<thead><tr><th></th><th></th><th></th><th></th><th></th><th>Angstrom</th></tr></thead>\n",
       "<thead><tr><th>str19</th><th>str19</th><th>str3</th><th>str3</th><th>str8</th><th>float64</th></tr></thead>\n",
       "<tr><td>2015-03-19 12:27:11</td><td>2015-03-19 12:27:12</td><td>SDO</td><td>AIA</td><td>FULLDISK</td><td>171.0 .. 171.0</td></tr>\n",
       "<tr><td>2015-03-19 12:27:23</td><td>2015-03-19 12:27:24</td><td>SDO</td><td>AIA</td><td>FULLDISK</td><td>171.0 .. 171.0</td></tr>\n",
       "<tr><td>2015-03-19 12:27:59</td><td>2015-03-19 12:28:00</td><td>SDO</td><td>AIA</td><td>FULLDISK</td><td>171.0 .. 171.0</td></tr>\n",
       "<tr><td>2015-03-19 12:26:47</td><td>2015-03-19 12:26:48</td><td>SDO</td><td>AIA</td><td>FULLDISK</td><td>171.0 .. 171.0</td></tr>\n",
       "<tr><td>2015-03-19 12:27:47</td><td>2015-03-19 12:27:48</td><td>SDO</td><td>AIA</td><td>FULLDISK</td><td>171.0 .. 171.0</td></tr>\n",
       "<tr><td>2015-03-19 12:26:59</td><td>2015-03-19 12:27:00</td><td>SDO</td><td>AIA</td><td>FULLDISK</td><td>171.0 .. 171.0</td></tr>\n",
       "<tr><td>2015-03-19 12:27:35</td><td>2015-03-19 12:27:36</td><td>SDO</td><td>AIA</td><td>FULLDISK</td><td>171.0 .. 171.0</td></tr>\n",
       "</table></br>"
      ],
      "text/plain": [
       "<sunpy.net.fido_factory.UnifiedResponse object at 0x1d60a1b70>\n",
       "Results from 1 Provider:\n",
       "\n",
       "7 Results from the VSOClient:\n",
       "   Start Time [1]       End Time [1]    Source ...   Type   Wavelength [2]\n",
       "                                               ...             Angstrom   \n",
       "       str19               str19         str3  ...   str8      float64    \n",
       "------------------- ------------------- ------ ... -------- --------------\n",
       "2015-03-19 12:27:11 2015-03-19 12:27:12    SDO ... FULLDISK 171.0 .. 171.0\n",
       "2015-03-19 12:27:23 2015-03-19 12:27:24    SDO ... FULLDISK 171.0 .. 171.0\n",
       "2015-03-19 12:27:59 2015-03-19 12:28:00    SDO ... FULLDISK 171.0 .. 171.0\n",
       "2015-03-19 12:26:47 2015-03-19 12:26:48    SDO ... FULLDISK 171.0 .. 171.0\n",
       "2015-03-19 12:27:47 2015-03-19 12:27:48    SDO ... FULLDISK 171.0 .. 171.0\n",
       "2015-03-19 12:26:59 2015-03-19 12:27:00    SDO ... FULLDISK 171.0 .. 171.0\n",
       "2015-03-19 12:27:35 2015-03-19 12:27:36    SDO ... FULLDISK 171.0 .. 171.0\n"
      ]
     },
     "execution_count": 7,
     "metadata": {},
     "output_type": "execute_result"
    }
   ],
   "source": [
    "result = Fido.search(a.Time('2015-03-19T12:26:40', '2015-03-19T12:28:00'), \n",
    "                     a.Instrument(\"aia\"), a.Wavelength(171*u.angstrom), \n",
    "                     a.vso.Sample(12*u.second))\n",
    "result"
   ]
  },
  {
   "cell_type": "code",
   "execution_count": 13,
   "metadata": {},
   "outputs": [
    {
     "name": "stdout",
     "output_type": "stream",
     "text": [
      "[                                        ========================================\n"
     ]
    }
   ],
   "source": [
    "file_download = Fido.fetch(result[0, 3], site='ROB')"
   ]
  },
  {
   "cell_type": "code",
   "execution_count": 8,
   "metadata": {},
   "outputs": [],
   "source": [
    "# to avoid download again\n",
    "file_download = ['/Users/tiago/sunpy/data/aia_20150319_122647_0171_image_lev1.fits']  "
   ]
  },
  {
   "cell_type": "code",
   "execution_count": 9,
   "metadata": {},
   "outputs": [],
   "source": [
    "atmp = sunpy.map.Map(file_download)"
   ]
  },
  {
   "cell_type": "code",
   "execution_count": 10,
   "metadata": {},
   "outputs": [
    {
     "name": "stderr",
     "output_type": "stream",
     "text": [
      "/Users/tiago/miniconda/lib/python3.6/site-packages/sunpy/image/transform.py:122: RuntimeWarning: Input data has been cast to float64\n",
      "  warnings.warn(\"Input data has been cast to float64\", RuntimeWarning)\n",
      "/Users/tiago/miniconda/lib/python3.6/site-packages/sunpy/map/mapbase.py:1319: Warning: GenericMap.submap now takes pixel values as `bottom_left` and `top_right` not `range_a` and `range_b`\n",
      "  \" and `top_right` not `range_a` and `range_b`\", Warning)\n"
     ]
    }
   ],
   "source": [
    "aia = aiaprep(atmp)\n",
    "aia171_rot = aia.rotate(rmatrix=np.matrix(sji.wcs.wcs.pc[:-1, :-1]).I)"
   ]
  },
  {
   "cell_type": "code",
   "execution_count": 17,
   "metadata": {},
   "outputs": [],
   "source": [
    "plt.figure()\n",
    "from matplotlib.patches import Rectangle, Polygon\n",
    "\n",
    "dims = sji.data.shape\n",
    "_, ypts, xpts = sji.pixel_to_world(np.zeros(4) * u.pix, \n",
    "                                   [0, dims[1] - 1, dims[1] -1 , 0] * u.pix,\n",
    "                                   [0, 0, dims[2] - 1, dims[2] - 1] * u.pix)\n",
    "iris_points = np.array([xpts.value, ypts.value, ]).T\n",
    "\n",
    "\n",
    "# Create submap on rotated image, with slightly smaller lower field of view\n",
    "top_right = SkyCoord(962*u.arcsec, -80*u.arcsec, frame=aia171_rot.coordinate_frame)\n",
    "bottom_left = SkyCoord(982 * u.arcsec, -600. * u.arcsec, frame=aia171_rot.coordinate_frame)\n",
    "aia_rot_sub = aia171_rot.submap(top_right, bottom_left)\n",
    "aia_rot_sub.plot()\n",
    "# add the same IRIS field-of-view:\n",
    "ax = plt.gca()\n",
    "r = Polygon(iris_points, closed=True, edgecolor='y', facecolor='none', lw=2,\n",
    "            transform=ax.get_transform('world'))\n",
    "ax.add_patch(r) \n",
    "plt.show()"
   ]
  },
  {
   "cell_type": "code",
   "execution_count": 18,
   "metadata": {},
   "outputs": [
    {
     "name": "stderr",
     "output_type": "stream",
     "text": [
      "/Users/tiago/codes/irispy/irispy/sji.py:91: UserWarning: This class is still in early stages of development. API not stable.\n",
      "  warnings.warn(\"This class is still in early stages of development. API not stable.\")\n"
     ]
    }
   ],
   "source": [
    "post_time = parse_time('2015-03-19T12:48:25')\n",
    "time_diff2 = iris_times - post_time\n",
    "time_index2 = np.argmin(np.abs(time_diff2))\n",
    "\n",
    "plt.figure()\n",
    "ax = plt.subplot(projection=sji.wcs.dropaxis(-1))\n",
    "tmp = np.sign(sji[time_index2].data) * np.abs(sji[time_index2].data) ** 0.3\n",
    "img = ax.imshow(tmp, cmap='irissji1330', vmin=0.5, vmax=1000**0.3)\n",
    "ax.coords[0].set_major_formatter('s.s')\n",
    "ax.coords[1].set_major_formatter('s.s')\n",
    "ax.grid(color='w', ls=':')"
   ]
  },
  {
   "cell_type": "code",
   "execution_count": 24,
   "metadata": {},
   "outputs": [
    {
     "data": {
      "text/html": [
       "Results from 1 Provider:</br></br>3 Results from the VSOClient:</br><i>QTable length=3</i>\n",
       "<table id=\"table9233114840\" class=\"table-striped table-bordered table-condensed\">\n",
       "<thead><tr><th>Start Time [1]</th><th>End Time [1]</th><th>Source</th><th>Instrument</th><th>Type</th><th>Wavelength [2]</th></tr></thead>\n",
       "<thead><tr><th></th><th></th><th></th><th></th><th></th><th>Angstrom</th></tr></thead>\n",
       "<thead><tr><th>str19</th><th>str19</th><th>str3</th><th>str3</th><th>str8</th><th>float64</th></tr></thead>\n",
       "<tr><td>2015-03-19 12:48:13</td><td>2015-03-19 12:48:14</td><td>SDO</td><td>AIA</td><td>FULLDISK</td><td>94.0 .. 94.0</td></tr>\n",
       "<tr><td>2015-03-19 12:48:25</td><td>2015-03-19 12:48:26</td><td>SDO</td><td>AIA</td><td>FULLDISK</td><td>94.0 .. 94.0</td></tr>\n",
       "<tr><td>2015-03-19 12:48:37</td><td>2015-03-19 12:48:38</td><td>SDO</td><td>AIA</td><td>FULLDISK</td><td>94.0 .. 94.0</td></tr>\n",
       "</table></br>"
      ],
      "text/plain": [
       "<sunpy.net.fido_factory.UnifiedResponse object at 0x226556eb8>\n",
       "Results from 1 Provider:\n",
       "\n",
       "3 Results from the VSOClient:\n",
       "   Start Time [1]       End Time [1]    Source ...   Type   Wavelength [2]\n",
       "                                               ...             Angstrom   \n",
       "       str19               str19         str3  ...   str8      float64    \n",
       "------------------- ------------------- ------ ... -------- --------------\n",
       "2015-03-19 12:48:13 2015-03-19 12:48:14    SDO ... FULLDISK   94.0 .. 94.0\n",
       "2015-03-19 12:48:25 2015-03-19 12:48:26    SDO ... FULLDISK   94.0 .. 94.0\n",
       "2015-03-19 12:48:37 2015-03-19 12:48:38    SDO ... FULLDISK   94.0 .. 94.0\n"
      ]
     },
     "execution_count": 24,
     "metadata": {},
     "output_type": "execute_result"
    }
   ],
   "source": [
    "result = Fido.search(a.Time('2015-03-19T12:48:10', '2015-03-19T12:48:40'), \n",
    "                     a.Instrument(\"aia\"), a.Wavelength(94*u.angstrom), \n",
    "                     a.vso.Sample(12*u.second))\n",
    "result"
   ]
  },
  {
   "cell_type": "code",
   "execution_count": 25,
   "metadata": {},
   "outputs": [
    {
     "name": "stdout",
     "output_type": "stream",
     "text": [
      "[                                        ========================================\n"
     ]
    }
   ],
   "source": [
    "file_download = Fido.fetch(result[0, 0], site='ROB')"
   ]
  },
  {
   "cell_type": "code",
   "execution_count": 19,
   "metadata": {},
   "outputs": [],
   "source": [
    "# to avoid download again\n",
    "file_download = ['/Users/tiago/sunpy/data/aia_20150319_124813_0094_image_lev1.fits']  "
   ]
  },
  {
   "cell_type": "code",
   "execution_count": 20,
   "metadata": {},
   "outputs": [
    {
     "name": "stderr",
     "output_type": "stream",
     "text": [
      "/Users/tiago/miniconda/lib/python3.6/site-packages/sunpy/image/transform.py:122: RuntimeWarning: Input data has been cast to float64\n",
      "  warnings.warn(\"Input data has been cast to float64\", RuntimeWarning)\n",
      "/Users/tiago/miniconda/lib/python3.6/site-packages/sunpy/map/mapbase.py:1319: Warning: GenericMap.submap now takes pixel values as `bottom_left` and `top_right` not `range_a` and `range_b`\n",
      "  \" and `top_right` not `range_a` and `range_b`\", Warning)\n"
     ]
    }
   ],
   "source": [
    "atmp = sunpy.map.Map(file_download)\n",
    "aia94 = aiaprep(atmp)"
   ]
  },
  {
   "cell_type": "code",
   "execution_count": 27,
   "metadata": {},
   "outputs": [
    {
     "data": {
      "text/plain": [
       "<matplotlib.image.AxesImage at 0x22656f470>"
      ]
     },
     "execution_count": 27,
     "metadata": {},
     "output_type": "execute_result"
    }
   ],
   "source": [
    "plt.figure()\n",
    "aia94.plot()"
   ]
  },
  {
   "cell_type": "code",
   "execution_count": 21,
   "metadata": {},
   "outputs": [],
   "source": [
    "aia94_rot = aia94.rotate(rmatrix=np.matrix(sji.wcs.wcs.pc[:-1, :-1]).I)"
   ]
  },
  {
   "cell_type": "code",
   "execution_count": 31,
   "metadata": {},
   "outputs": [
    {
     "data": {
      "text/plain": [
       "<matplotlib.image.AxesImage at 0x1263b70f0>"
      ]
     },
     "execution_count": 31,
     "metadata": {},
     "output_type": "execute_result"
    }
   ],
   "source": [
    "plt.figure()\n",
    "aia94_rot.plot()"
   ]
  },
  {
   "cell_type": "code",
   "execution_count": 22,
   "metadata": {},
   "outputs": [],
   "source": [
    "from matplotlib.patches import Rectangle, Polygon\n",
    "\n",
    "dims = sji.data.shape\n",
    "_, ypts, xpts = sji.pixel_to_world(np.zeros(4) * u.pix, \n",
    "                                   [0, dims[1] - 1, dims[1] -1 , 0] * u.pix,\n",
    "                                   [0, 0, dims[2] - 1, dims[2] - 1] * u.pix)\n",
    "iris_points = np.array([xpts.value, ypts.value, ]).T\n",
    "\n",
    "\n",
    "# Create submap on rotated image, with slightly smaller lower field of view\n",
    "top_right = SkyCoord(962*u.arcsec, -80*u.arcsec, frame=aia94_rot.coordinate_frame)\n",
    "bottom_left = SkyCoord(982 * u.arcsec, -600. * u.arcsec, frame=aia94_rot.coordinate_frame)\n",
    "aia_rot_sub = aia94_rot.submap(top_right, bottom_left)\n",
    "aia_rot_sub.plot()\n",
    "# add the same IRIS field-of-view:\n",
    "ax = plt.gca()\n",
    "r = Polygon(iris_points, closed=True, edgecolor='y', facecolor='none', lw=2,\n",
    "            transform=ax.get_transform('world'))\n",
    "ax.add_patch(r) \n",
    "plt.show()"
   ]
  },
  {
   "cell_type": "code",
   "execution_count": 54,
   "metadata": {},
   "outputs": [
    {
     "name": "stderr",
     "output_type": "stream",
     "text": [
      "/Users/tiago/codes/irispy/irispy/sji.py:91: UserWarning: This class is still in early stages of development. API not stable.\n",
      "  warnings.warn(\"This class is still in early stages of development. API not stable.\")\n"
     ]
    },
    {
     "data": {
      "text/plain": [
       "[<matplotlib.lines.Line2D at 0x1d4e73cc0>]"
      ]
     },
     "execution_count": 54,
     "metadata": {},
     "output_type": "execute_result"
    }
   ],
   "source": [
    "post_time = parse_time('2015-03-19T09:34:21')\n",
    "time_diff3 = iris_times - post_time\n",
    "time_index3 = np.argmin(np.abs(time_diff3))\n",
    "\n",
    "plt.figure()\n",
    "ax = plt.subplot(projection=sji.wcs.dropaxis(-1))\n",
    "tmp = np.sign(sji[time_index3].data) * np.abs(sji[time_index3].data) ** 0.3\n",
    "img = ax.imshow(tmp, cmap='irissji1330', vmin=0.5, vmax=1000**0.3)\n",
    "ax.coords[0].set_major_formatter('s.s')\n",
    "ax.coords[1].set_major_formatter('s.s')\n",
    "ax.grid(color='w', ls=':')\n",
    "\n",
    "# Plot front of blob\n",
    "coord1 = [936, -366.6] * u.arcsec\n",
    "pt, _, _ = sji.pixel_to_world(time_index3 * u.pix, 0 * u.pix, 0 * u.pix)\n",
    "_, py, px = sji.world_to_pixel(pt, coord1[1], coord1[0])\n",
    "plt.plot(px, py, 'b+', ms=10)"
   ]
  },
  {
   "cell_type": "code",
   "execution_count": 55,
   "metadata": {},
   "outputs": [
    {
     "name": "stdout",
     "output_type": "stream",
     "text": [
      "2015-03-19 09:34:20.950000\n"
     ]
    },
    {
     "name": "stderr",
     "output_type": "stream",
     "text": [
      "/Users/tiago/codes/irispy/irispy/sji.py:91: UserWarning: This class is still in early stages of development. API not stable.\n",
      "  warnings.warn(\"This class is still in early stages of development. API not stable.\")\n"
     ]
    }
   ],
   "source": [
    "inc = 4\n",
    "tmp1 = np.sign(sji[time_index3+inc].data) * np.abs(sji[time_index3+inc].data) ** 0.3\n",
    "img.set_data(tmp1)\n",
    "print(iris_times[time_index3])\n",
    "\n",
    "# New coordinates (by hand)\n",
    "coord2 = [933.8, -374.2] * u.arcsec\n",
    "ax.plot(coord2[0].to(u.deg), coord2[1].to(u.deg), 'g+', \n",
    "        transform=ax.get_transform('world'), ms=10)\n",
    "\n",
    "# distance \n",
    "dist_arcsec = np.linalg.norm(coord1 - coord2) * u.arcsec"
   ]
  },
  {
   "cell_type": "code",
   "execution_count": 56,
   "metadata": {},
   "outputs": [
    {
     "data": {
      "text/latex": [
       "$7.9120162 \\; \\mathrm{{}^{\\prime\\prime}}$"
      ],
      "text/plain": [
       "<Quantity 7.91201618 arcsec>"
      ]
     },
     "execution_count": 56,
     "metadata": {},
     "output_type": "execute_result"
    }
   ],
   "source": [
    "dist_arcsec"
   ]
  },
  {
   "cell_type": "code",
   "execution_count": 57,
   "metadata": {},
   "outputs": [
    {
     "data": {
      "text/latex": [
       "$0.71864168 \\; \\mathrm{Mm}$"
      ],
      "text/plain": [
       "<Quantity 0.71864168 Mm>"
      ]
     },
     "execution_count": 57,
     "metadata": {},
     "output_type": "execute_result"
    }
   ],
   "source": [
    "from sunpy.coordinates import frames\n",
    "\n",
    "# time of first IRIS image\n",
    "obs_date = sji.extra_coords['TIME']['value'][0]\n",
    "\n",
    "# get 1\" interval at disk-centre between in cartesian coordinates \n",
    "a1 = SkyCoord(0 * u.arcsec, 0 * u.arcsec, frame='helioprojective',\n",
    "              obstime=obs_date).transform_to('heliocentric').x\n",
    "a2 = SkyCoord(1 * u.arcsec, 0 * u.arcsec, frame='helioprojective',\n",
    "              obstime=obs_date).transform_to('heliocentric').x\n",
    "asec_to_Mm = (a2 - a1).to(u.Mm)\n",
    "asec_to_Mm"
   ]
  },
  {
   "cell_type": "code",
   "execution_count": 58,
   "metadata": {},
   "outputs": [
    {
     "data": {
      "text/latex": [
       "$5.6859046 \\; \\mathrm{Mm}$"
      ],
      "text/plain": [
       "<Quantity 5.6859046 Mm>"
      ]
     },
     "execution_count": 58,
     "metadata": {},
     "output_type": "execute_result"
    }
   ],
   "source": [
    "dist_Mm = dist_arcsec.value * asec_to_Mm\n",
    "dist_Mm\n"
   ]
  },
  {
   "cell_type": "code",
   "execution_count": 65,
   "metadata": {},
   "outputs": [
    {
     "data": {
      "text/latex": [
       "$152.68272 \\; \\mathrm{\\frac{km}{s}}$"
      ],
      "text/plain": [
       "<Quantity 152.68272284 km / s>"
      ]
     },
     "execution_count": 65,
     "metadata": {},
     "output_type": "execute_result"
    }
   ],
   "source": [
    "time_delta = sji.extra_coords['TIME']['value'][time_index3 + inc] - sji.extra_coords['TIME']['value'][time_index3]\n",
    "ts = time_delta.total_seconds() * u.s\n",
    "\n",
    "vkms = dist_Mm.to(u.km) / ts\n",
    "vkms"
   ]
  },
  {
   "cell_type": "code",
   "execution_count": 69,
   "metadata": {},
   "outputs": [
    {
     "name": "stdout",
     "output_type": "stream",
     "text": [
      "2015-03-19 12:33:21.630000\n"
     ]
    },
    {
     "name": "stderr",
     "output_type": "stream",
     "text": [
      "/Users/tiago/codes/irispy/irispy/sji.py:91: UserWarning: This class is still in early stages of development. API not stable.\n",
      "  warnings.warn(\"This class is still in early stages of development. API not stable.\")\n"
     ]
    }
   ],
   "source": [
    "post_time = parse_time('2015-03-19T12:33:21')\n",
    "time_diff4 = iris_times - post_time\n",
    "time_index4 = np.argmin(np.abs(time_diff4))\n",
    "\n",
    "plt.figure()\n",
    "ax = plt.subplot(projection=sji.wcs.dropaxis(-1))\n",
    "tmp = np.sign(sji[time_index4].data) * np.abs(sji[time_index4].data) ** 0.3\n",
    "img = ax.imshow(tmp, cmap='irissji1330', vmin=0.5, vmax=1000**0.3)\n",
    "ax.coords[0].set_major_formatter('s.s')\n",
    "ax.coords[1].set_major_formatter('s.s')\n",
    "ax.grid(color='w', ls=':')\n",
    "print(iris_times[time_index4])"
   ]
  },
  {
   "cell_type": "code",
   "execution_count": 79,
   "metadata": {},
   "outputs": [
    {
     "name": "stderr",
     "output_type": "stream",
     "text": [
      "/Users/tiago/codes/irispy/irispy/sji.py:91: UserWarning: This class is still in early stages of development. API not stable.\n",
      "  warnings.warn(\"This class is still in early stages of development. API not stable.\")\n"
     ]
    },
    {
     "data": {
      "text/plain": [
       "[<matplotlib.lines.Line2D at 0x21f209c18>]"
      ]
     },
     "execution_count": 79,
     "metadata": {},
     "output_type": "execute_result"
    }
   ],
   "source": [
    "# my chosen blob\n",
    "coord1 = [909.3, -375.7] * u.arcsec\n",
    "ax.plot(coord1[0].to(u.deg), coord1[1].to(u.deg), 'g+', \n",
    "        transform=ax.get_transform('world'), ms=10)\n",
    "inc = 3\n",
    "tmp1 = np.sign(sji[time_index4+inc].data) * np.abs(sji[time_index4+inc].data) ** 0.3\n",
    "img.set_data(tmp1)\n",
    "\n",
    "# by hand\n",
    "coord2 = [906.2, -384] * u.arcsec\n",
    "ax.plot(coord2[0].to(u.deg), coord2[1].to(u.deg), 'b+', \n",
    "        transform=ax.get_transform('world'), ms=10)"
   ]
  },
  {
   "cell_type": "code",
   "execution_count": 80,
   "metadata": {},
   "outputs": [
    {
     "data": {
      "text/latex": [
       "$227.88767 \\; \\mathrm{\\frac{km}{s}}$"
      ],
      "text/plain": [
       "<Quantity 227.88767026 km / s>"
      ]
     },
     "execution_count": 80,
     "metadata": {},
     "output_type": "execute_result"
    }
   ],
   "source": [
    "dist_Mm = np.linalg.norm(coord1 - coord2) * asec_to_Mm\n",
    "time_delta = sji.extra_coords['TIME']['value'][time_index4 + inc] - sji.extra_coords['TIME']['value'][time_index4]\n",
    "ts = time_delta.total_seconds() * u.s\n",
    "\n",
    "vkms = dist_Mm.to(u.km) / ts\n",
    "vkms"
   ]
  },
  {
   "cell_type": "code",
   "execution_count": null,
   "metadata": {},
   "outputs": [],
   "source": []
  }
 ],
 "metadata": {
  "kernelspec": {
   "display_name": "Python 3",
   "language": "python",
   "name": "python3"
  },
  "language_info": {
   "codemirror_mode": {
    "name": "ipython",
    "version": 3
   },
   "file_extension": ".py",
   "mimetype": "text/x-python",
   "name": "python",
   "nbconvert_exporter": "python",
   "pygments_lexer": "ipython3",
   "version": "3.6.5"
  }
 },
 "nbformat": 4,
 "nbformat_minor": 2
}
